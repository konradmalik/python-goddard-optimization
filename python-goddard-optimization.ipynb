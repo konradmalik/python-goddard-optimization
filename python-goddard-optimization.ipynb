{
 "cells": [
  {
   "cell_type": "markdown",
   "metadata": {},
   "source": [
    "# Goddard's Rocket Problem"
   ]
  },
  {
   "cell_type": "markdown",
   "metadata": {},
   "source": [
    "### My project on Optimization and Optimal Control\n",
    "#### Konrad Malik"
   ]
  },
  {
   "cell_type": "markdown",
   "metadata": {},
   "source": [
    "## The most general problem statement:"
   ]
  },
  {
   "cell_type": "markdown",
   "metadata": {},
   "source": [
    "This problem concerns controlling a rocket's thrust in such a way that it will archive the greatest height. There is no contraint on time and in the whole case just a one (vertical) direction is taken into consideration."
   ]
  },
  {
   "cell_type": "markdown",
   "metadata": {},
   "source": [
    "## Formal problem statement:\n",
    "###### We assume that our equations of motion are nondimensionalized and normalized. That is they are not realistic but can be changed/transformed to such."
   ]
  },
  {
   "cell_type": "markdown",
   "metadata": {},
   "source": [
    "Take:\n",
    "* $t$ - time\n",
    "* $v(t)$ - velocity\n",
    "* $h(t)$ - height\n",
    "* $g(h)$ - gravitational acceleration\n",
    "* $m(t)$ - mass\n",
    "* $c$ - specific impulse\n",
    "* $D(v,h)$ - drag\n",
    "* $T(t)$ - thrust (our control)"
   ]
  },
  {
   "cell_type": "markdown",
   "metadata": {},
   "source": [
    "Initial conditions:\n",
    "* $h(0) = 1$\n",
    "* $v(0) = 0$\n",
    "* $m(0) = 1$"
   ]
  },
  {
   "cell_type": "markdown",
   "metadata": {},
   "source": [
    "Boundary condition:\n",
    "* $g(0) = 1$"
   ]
  },
  {
   "cell_type": "markdown",
   "metadata": {},
   "source": [
    "Additional needed constants parameters, and formulas:\n",
    "* $T_c = 3.5$\n",
    "* $H_c = 500$\n",
    "* $V_c = 620$\n",
    "* $M_c = 0.6$\n",
    "* $c = 0.5\\sqrt{g(0)h(0)}$\n",
    "* $D_c = 0.5 \\frac{V_c m(0)}{g(0)}$\n",
    "* $T_{max} = T_c g(0) m(0)$"
   ]
  },
  {
   "cell_type": "markdown",
   "metadata": {},
   "source": [
    "Final condition (empty fuel tank):\n",
    "* $m(t_f) = M_c m(0)$"
   ]
  },
  {
   "cell_type": "markdown",
   "metadata": {},
   "source": [
    "As density and the gravitational constant are dependant on altitude, we will use simplified models for $D(v,h)$ and $g$:\n",
    "* $D(v,h) = D_c v^2 exp(-H_c \\frac{h-h(0)}{h(0)})$\n",
    "* $g(h) = g(0) (\\frac{h(0)}{h})^2$"
   ]
  },
  {
   "cell_type": "markdown",
   "metadata": {},
   "source": [
    "Given the above, we can now define the rocket's equations of motion (EOM):"
   ]
  },
  {
   "cell_type": "markdown",
   "metadata": {},
   "source": [
    "![Rocket](figures/1rocket.png)"
   ]
  },
  {
   "cell_type": "markdown",
   "metadata": {},
   "source": [
    "\\begin{align}\n",
    "    \\dot{h}(t) = & v(t) \\\\\n",
    "    \\dot{v}(t) = & \\frac{1}{m(t)}[T(t)-D(v,h)] - g(h) \\\\\n",
    "    \\dot{m}(t) = & \\frac{-T(t)}{c}\n",
    "\\end{align}"
   ]
  },
  {
   "cell_type": "markdown",
   "metadata": {},
   "source": [
    "### We define our objective:\n",
    "We will try to obtain the optimal thrust profile which will give us the highest altitude. That means we want to maximize $h(t_f)$ with no constraints on time $t_f$, thus we can write:\n",
    "$$J(x,u) = -h(t_f) \\tag{1}$$\n",
    "where $x$ are our state variables: $[h,v,m]^T$, and $u$ is our control: $T(t)$.\n",
    "\n",
    "The general formula for cost $J$ is:\n",
    "$$J(x,u) = \\phi(x(t_f)) + \\int_{t_0}^{t_f} f(x(t),u(t)) dt$$\n",
    "based on that we conclude:\n",
    "$$\\phi(x(t_f)) = -h(t_f) \\tag{2}$$ \n",
    "$$f(x,u) = 0$$"
   ]
  },
  {
   "cell_type": "markdown",
   "metadata": {},
   "source": [
    "#### Equations derivation\n",
    "###### Hamiltonian\n",
    "\n",
    "Given that Hamiltonian formula is:\n",
    "$$H(x,u,\\lambda) = L(x,u) + \\lambda f(x,u)$$\n",
    "in our case Hamiltonian equals:\n",
    "$$H(x,u,\\lambda) = \\lambda_h + \\lambda_v(\\frac{1}{m(t)}[T(t)-D(v,h)] - g(h)) - \\lambda_m \\frac{T(t)}{c}$$"
   ]
  },
  {
   "cell_type": "markdown",
   "metadata": {},
   "source": [
    "###### Co-state equations of motion\n",
    "\n",
    "General formula:\n",
    "$$\\dot{\\lambda} = - H_x$$\n",
    "In our case:\n",
    "\\begin{align}\n",
    "\\dot{\\lambda_h} = -H_h = & \\lambda_v \\frac{\\partial D}{\\partial h} \\frac{1}{m} \\\\\n",
    "\\dot{\\lambda_v} = -H_v = & -(\\lambda_h - \\lambda_v \\frac{\\partial D}{\\partial v} \\frac{1}{m}) = \\lambda_v \\frac{\\partial D}{\\partial v} \\frac{1}{m} - \\lambda_h \\\\\n",
    "\\dot{\\lambda_m} = -H_m = & \\frac{T-D}{m^2}\n",
    "\\end{align}"
   ]
  },
  {
   "cell_type": "markdown",
   "metadata": {},
   "source": [
    "###### Co-state final conditions:\n",
    "From (2) we have (as $\\phi(x(t_f))$ a linear function of $h(t_f)$):\n",
    "\\begin{align}\n",
    "&\\lambda_h = -1 \\\\\n",
    "&\\lambda_h = 0 \\\\\n",
    "&\\lambda_h = 0\n",
    "\\end{align}"
   ]
  },
  {
   "cell_type": "markdown",
   "metadata": {},
   "source": [
    "### Hamiltonian maximalization discussion:\n",
    "The next step is to find when Hamiltonian achives its extrema based on the Pontryagin's Maximum Principle:\n",
    "$$H(x,u,\\lambda) = \\lambda_h + \\lambda_v(\\frac{1}{m(t)}[T(t)-D(v,h)] - g(h)) - \\lambda_m \\frac{T(t)}{c}$$\n",
    "grouping elemets in the above equation gives:\n",
    "$$H(x,u,\\lambda) = (\\frac{\\lambda_v}{m} - \\frac{\\lambda_m}{c})T - (\\frac{D}{m} - g)\\lambda_v + \\lambda_h$$"
   ]
  },
  {
   "cell_type": "markdown",
   "metadata": {},
   "source": [
    "As our control is $T$, it can be clearly seen that minimizing the above function can be achived in 3 different cases:\n",
    "\\begin{cases}\n",
    "    \\tag{3}\n",
    "    T = T_{max},& \\text{if } (\\frac{\\lambda_v}{m} - \\frac{\\lambda_m}{c}) < 0 \\\\\n",
    "    0 < T < T_{max},& \\text{if } (\\frac{\\lambda_v}{m} - \\frac{\\lambda_m}{c}) = 0 \\\\\n",
    "    T = 0,              & \\text{if} (\\frac{\\lambda_v}{m} - \\frac{\\lambda_m}{c}) > 0\n",
    "\\end{cases}"
   ]
  },
  {
   "cell_type": "markdown",
   "metadata": {},
   "source": [
    "The middle expression corresponds to the so-called \"singular arc\". Singular arc typically occurs when Hamiltonian is linear in control (as in our case) and the coefficient of the control term equals zero (as in the middle expression)."
   ]
  },
  {
   "cell_type": "markdown",
   "metadata": {},
   "source": [
    "On a singular arc the following must be staisfied:\n",
    "$$H_T = \\frac{\\lambda_v}{m} - \\frac{\\lambda_m}{c} = 0$$\n",
    "From that we conclude:\n",
    "$$\\dot{H}_T = \\ddot{H}_T = 0$$"
   ]
  },
  {
   "cell_type": "markdown",
   "metadata": {},
   "source": [
    "From the above equations a formula describing a nonlinear feedback control law for $T$ on a singular arc can be derived, however this is out of scope in this project."
   ]
  },
  {
   "cell_type": "markdown",
   "metadata": {},
   "source": [
    "Based on our above reasoning and papers such as *Drag-law Effects in the Goddard Problem* by Tsiotras and Kelley, a solution to the Goddard Problem as we defined it typically consists of a 3 arcs as defined in eq. (3)."
   ]
  },
  {
   "cell_type": "markdown",
   "metadata": {},
   "source": [
    "## Numerical Solution\n",
    "In order to solve out problem numerically we will use python 3.\n",
    "Required packages:\n",
    "OpenGoddard, numpy, matplotlib"
   ]
  },
  {
   "cell_type": "markdown",
   "metadata": {},
   "source": [
    "Necessary imports:\n",
    "- numpy: general scientific computing\n",
    "- matplotlib: library for plotting\n",
    "- OpenGoddard: library for solving optimization problems in python"
   ]
  },
  {
   "cell_type": "code",
   "execution_count": 1,
   "metadata": {},
   "outputs": [],
   "source": [
    "import numpy as np\n",
    "import matplotlib.pyplot as plt\n",
    "from OpenGoddard.optimize import Problem, Guess, Condition, Dynamics\n",
    "%matplotlib inline"
   ]
  },
  {
   "cell_type": "markdown",
   "metadata": {},
   "source": [
    "We define a class \"Rocket\" with initial/boundary conditions as specified in our Formal Problem Statement.\n",
    "\n",
    "Constants and paramterers are chosen based on OpenGoddard examples and can be freely changed.\n",
    "\n",
    "Equations for drag coefficient, maximum thrust etc. were listed in \"Formal Problem Statement\" under \"Additional needed constants parameters\"."
   ]
  },
  {
   "cell_type": "code",
   "execution_count": 2,
   "metadata": {},
   "outputs": [],
   "source": [
    "class Rocket:\n",
    "    g0 = 1.0  # Gravity accel at surface\n",
    "\n",
    "    def __init__(self):\n",
    "        self.H0 = 1.0  # Initial height\n",
    "        self.V0 = 0.0  # Initial velocity\n",
    "        self.M0 = 1.0  # Initial mass\n",
    "        self.Tc = 3.5  # Coeff of thrust\n",
    "        self.Hc = 500  # Coeff of density changes\n",
    "        self.Vc = 620  # Coeff of velocity\n",
    "        self.Mc = 0.6  # Fraction of whole rocket mass reserved for fuel\n",
    "        self.c = 0.5 * np.sqrt(self.g0*self.H0)  # Specific impulse (empirical formula)\n",
    "        self.Mf = self.Mc * self.M0               # Final mass (empty rocket)\n",
    "        self.Dc = 0.5 * self.Vc * self.M0 / self.g0  # Coeff of drag\n",
    "        self.T_max = self.Tc * self.g0 * self.M0     # Maximum thrust (empirical formula)"
   ]
  },
  {
   "cell_type": "markdown",
   "metadata": {},
   "source": [
    "We define the dynamics of our model.\n",
    "\n",
    "Firstly the state variables $h$, $v$ and $m$ are assigned to the \"Problem\" class as \"states\". The \"Problem\" class in OpenGoddard is an abstraction representing the actual problem we want to solve. Thus, it is neccessary to provide state variables. \n",
    "\n",
    "Then, under the \"control\" comment, we are assigning control variables to the same Problem class. In this case the only control we have is thrust $T$.\n",
    "\n",
    "Next, we take the necessary parameters from the defined earlier Rocket class.\n",
    "\n",
    "In order to fully describe our dynamic equations, we need to define \"additional formulas\" for drag, which is dependent on the state variables, and gravity constant, which changes with altitude. "
   ]
  },
  {
   "cell_type": "code",
   "execution_count": 3,
   "metadata": {},
   "outputs": [],
   "source": [
    "def dynamics(prob, obj, section):\n",
    "    # state\n",
    "    h = prob.states(0, section) # height\n",
    "    v = prob.states(1, section) # velocity\n",
    "    m = prob.states(2, section) # mass\n",
    "    # control\n",
    "    T = prob.controls(0, section) # control (thrust)\n",
    "\n",
    "    # Rocket class objects\n",
    "    Dc = obj.Dc # drag coefficient as defined in Rocket class\n",
    "    c = obj.c # specific impulse as defined in Rocket class\n",
    "    g0 = obj.g0 # gravity constant as defined in Rocket class\n",
    "    H0 = obj.H0 # initial height as defined in Rocket class\n",
    "    Hc = obj.Hc # height constant as defined in Rocket class\n",
    "    \n",
    "    # additional formulas\n",
    "    drag = Dc * v ** 2 * np.exp(-Hc * (h - H0) / H0) # drag equation\n",
    "    g = g0 * (H0 / h)**2 # gravity constant \n",
    "\n",
    "    # final dynamic equations definition\n",
    "    dx = Dynamics(prob, section)\n",
    "    dx[0] = v\n",
    "    dx[1] = (T - drag) / m - g\n",
    "    dx[2] = - T / c\n",
    "    return dx()"
   ]
  },
  {
   "cell_type": "markdown",
   "metadata": {},
   "source": [
    "Define the equality constraints (initial and boundary conditions):"
   ]
  },
  {
   "cell_type": "code",
   "execution_count": 5,
   "metadata": {},
   "outputs": [],
   "source": [
    "def equality(prob, obj):\n",
    "    # state\n",
    "    h = prob.states_all_section(0)\n",
    "    v = prob.states_all_section(1)\n",
    "    m = prob.states_all_section(2)\n",
    "    # control\n",
    "    T = prob.controls_all_section(0)\n",
    "    # time\n",
    "    tf = prob.time_final(-1)\n",
    "\n",
    "    result = Condition()\n",
    "\n",
    "    # conditions\n",
    "    # initial\n",
    "    result.equal(h[0], obj.H0)\n",
    "    result.equal(v[0], obj.V0)\n",
    "    result.equal(m[0], obj.M0)\n",
    "    # end\n",
    "    result.equal(v[-1], 0.0)\n",
    "    result.equal(m[-1], obj.Mf)\n",
    "\n",
    "    return result()"
   ]
  },
  {
   "cell_type": "markdown",
   "metadata": {},
   "source": [
    "Define the inequality constraints:"
   ]
  },
  {
   "cell_type": "code",
   "execution_count": 6,
   "metadata": {},
   "outputs": [],
   "source": [
    "def inequality(prob, obj):\n",
    "    # retrieve state variables from the Problem class \"prob\"\n",
    "    h = prob.states_all_section(0) # height\n",
    "    v = prob.states_all_section(1) # velocity\n",
    "    m = prob.states_all_section(2) # mass\n",
    "    # retrieve control variables from the Problem class \"prob\"\n",
    "    T = prob.controls_all_section(0) # thrust\n",
    "    # retrieve time from the Problem class \"prob\"\n",
    "    tf = prob.time_final(-1) # final time\n",
    "\n",
    "    result = Condition()\n",
    "    # lower bounds\n",
    "    result.lower_bound(h, obj.H0)\n",
    "    result.lower_bound(v, 0.0) # positive velocity\n",
    "    result.lower_bound(m, obj.Mf) # mass cannot be lower than the final mass (empty rocket)\n",
    "    result.lower_bound(T, 0.0) # positive thrust\n",
    "    result.lower_bound(tf, 0.1) # assume that final time cannot be lower than 0.1 for stability\n",
    "    # upper bounds\n",
    "    result.upper_bound(m, obj.M0) # mass not larger than the initial mass\n",
    "    result.upper_bound(T, obj.T_max) # thrust not larger than the maximal thrust\n",
    "\n",
    "    return result()"
   ]
  },
  {
   "cell_type": "markdown",
   "metadata": {},
   "source": [
    "Define the cost function as in eq. (1):"
   ]
  },
  {
   "cell_type": "code",
   "execution_count": 8,
   "metadata": {},
   "outputs": [],
   "source": [
    "def cost(prob, obj):\n",
    "    h = prob.states_all_section(0)\n",
    "    return -h[-1] # final altitude"
   ]
  },
  {
   "cell_type": "markdown",
   "metadata": {},
   "source": [
    "### Starting point (initialization)"
   ]
  },
  {
   "cell_type": "code",
   "execution_count": 12,
   "metadata": {},
   "outputs": [],
   "source": [
    "time_init = [0.0, 0.5] # initial and final time (arbitrary value)\n",
    "n = [100] # number of nodes\n",
    "num_states = [3] # number of states\n",
    "num_controls = [1] # number of controls\n",
    "max_iteration = 40 # maximum number of iterations"
   ]
  },
  {
   "cell_type": "markdown",
   "metadata": {},
   "source": [
    "Initialize OpenGoddard *Problem* class (main entry point to our optimization:"
   ]
  },
  {
   "cell_type": "code",
   "execution_count": 14,
   "metadata": {},
   "outputs": [],
   "source": [
    "prob = Problem(time_init, n, num_states, num_controls, max_iteration)"
   ]
  },
  {
   "cell_type": "markdown",
   "metadata": {},
   "source": [
    "Initialize a *Rocket* object:"
   ]
  },
  {
   "cell_type": "code",
   "execution_count": 16,
   "metadata": {},
   "outputs": [],
   "source": [
    "obj = Rocket()"
   ]
  },
  {
   "cell_type": "markdown",
   "metadata": {},
   "source": [
    "In order to be able to solve this optimization problem we need to initialze our state varables (make a initial guess about their profiles):"
   ]
  },
  {
   "cell_type": "code",
   "execution_count": 19,
   "metadata": {},
   "outputs": [
    {
     "data": {
      "image/png": "[encoded data removed]",
      "text/plain": [
       "<matplotlib.figure.Figure at 0x7f6d00f054a8>"
      ]
     },
     "metadata": {},
     "output_type": "display_data"
    }
   ],
   "source": [
    "# altitude profile\n",
    "H_init = Guess.cubic(prob.time_all_section, obj.H0, 0.0, 1.010, 0.0)\n",
    "Guess.plot(prob.time_all_section, H_init, \"Altitude\", \"time\", \"Altitude\")"
   ]
  },
  {
   "cell_type": "code",
   "execution_count": 21,
   "metadata": {},
   "outputs": [
    {
     "data": {
      "image/png": "[encoded data removed]",
      "text/plain": [
       "<matplotlib.figure.Figure at 0x7f6d0162a550>"
      ]
     },
     "metadata": {},
     "output_type": "display_data"
    }
   ],
   "source": [
    "# velocity\n",
    "V_init = Guess.linear(prob.time_all_section, 0.0, 0.0)\n",
    "Guess.plot(prob.time_all_section, V_init, \"Velocity\", \"time\", \"Velocity\")"
   ]
  },
  {
   "cell_type": "code",
   "execution_count": 23,
   "metadata": {},
   "outputs": [
    {
     "data": {
      "image/png": "[encoded data removed]",
      "text/plain": [
       "<matplotlib.figure.Figure at 0x7f6d011f9908>"
      ]
     },
     "metadata": {},
     "output_type": "display_data"
    }
   ],
   "source": [
    "# mass profile\n",
    "M_init = Guess.cubic(prob.time_all_section, obj.M0, -obj.Mc, obj.Mf, 0.0)\n",
    "Guess.plot(prob.time_all_section, M_init, \"Mass\", \"time\", \"Mass\")"
   ]
  },
  {
   "cell_type": "code",
   "execution_count": 24,
   "metadata": {},
   "outputs": [
    {
     "data": {
      "image/png": "[encoded data removed]",
      "text/plain": [
       "<matplotlib.figure.Figure at 0x7f6d010b94a8>"
      ]
     },
     "metadata": {},
     "output_type": "display_data"
    }
   ],
   "source": [
    "# thrust profile\n",
    "T_init = Guess.cubic(prob.time_all_section, obj.Tc, 0.0, 0.0, 0.0)\n",
    "Guess.plot(prob.time_all_section, T_init, \"Thrust Guess\", \"time\", \"Thrust\")"
   ]
  },
  {
   "cell_type": "markdown",
   "metadata": {},
   "source": [
    "Set our initial guessess as the initial input to our problem:"
   ]
  },
  {
   "cell_type": "code",
   "execution_count": 25,
   "metadata": {},
   "outputs": [],
   "source": [
    "prob.set_states_all_section(0, H_init)\n",
    "prob.set_states_all_section(1, V_init)\n",
    "prob.set_states_all_section(2, M_init)\n",
    "prob.set_controls_all_section(0, T_init)"
   ]
  },
  {
   "cell_type": "markdown",
   "metadata": {},
   "source": [
    "Set up our problem using the dynamics and constraints that we defined earlier:"
   ]
  },
  {
   "cell_type": "code",
   "execution_count": 27,
   "metadata": {},
   "outputs": [],
   "source": [
    "prob.dynamics = [dynamics] # dynamics\n",
    "prob.knot_states_smooth = [] # knot states (we are not using them)\n",
    "prob.cost = cost # cost function\n",
    "prob.cost_derivative = None # the derivative of the cost\n",
    "prob.equality = equality # equality constraints\n",
    "prob.inequality = inequality # inequality constraints"
   ]
  },
  {
   "cell_type": "markdown",
   "metadata": {},
   "source": [
    "Set up a function used to display results during optimization process:"
   ]
  },
  {
   "cell_type": "code",
   "execution_count": 29,
   "metadata": {},
   "outputs": [],
   "source": [
    "def display_func():\n",
    "    h = prob.states_all_section(0)\n",
    "    print(\"max altitude: {0:.5f}\".format(h[-1]))"
   ]
  },
  {
   "cell_type": "markdown",
   "metadata": {},
   "source": [
    "### Start the solver"
   ]
  },
  {
   "cell_type": "code",
   "execution_count": 31,
   "metadata": {},
   "outputs": [
    {
     "name": "stdout",
     "output_type": "stream",
     "text": [
      "---- iteration : 1 ----\n",
      "Iteration limit exceeded    (Exit mode 9)\n",
      "            Current function value: -1.0080580256013836\n",
      "            Iterations: 26\n",
      "            Function evaluations: 10478\n",
      "            Gradient evaluations: 26\n",
      "Iteration limit exceeded\n",
      "max altitude: 1.00806\n",
      "\n",
      "---- iteration : 2 ----\n",
      "Iteration limit exceeded    (Exit mode 9)\n",
      "            Current function value: -1.0097000702717605\n",
      "            Iterations: 26\n",
      "            Function evaluations: 10478\n",
      "            Gradient evaluations: 26\n",
      "Iteration limit exceeded\n",
      "max altitude: 1.00970\n",
      "\n",
      "---- iteration : 3 ----\n",
      "Iteration limit exceeded    (Exit mode 9)\n",
      "            Current function value: -1.0107695800036205\n",
      "            Iterations: 26\n",
      "            Function evaluations: 10478\n",
      "            Gradient evaluations: 26\n",
      "Iteration limit exceeded\n",
      "max altitude: 1.01077\n",
      "\n",
      "---- iteration : 4 ----\n",
      "Iteration limit exceeded    (Exit mode 9)\n",
      "            Current function value: -1.0112605328863198\n",
      "            Iterations: 26\n",
      "            Function evaluations: 10478\n",
      "            Gradient evaluations: 26\n",
      "Iteration limit exceeded\n",
      "max altitude: 1.01126\n",
      "\n",
      "---- iteration : 5 ----\n",
      "Iteration limit exceeded    (Exit mode 9)\n",
      "            Current function value: -1.0116414868914618\n",
      "            Iterations: 26\n",
      "            Function evaluations: 10479\n",
      "            Gradient evaluations: 26\n",
      "Iteration limit exceeded\n",
      "max altitude: 1.01164\n",
      "\n",
      "---- iteration : 6 ----\n",
      "Iteration limit exceeded    (Exit mode 9)\n",
      "            Current function value: -1.0118435389742713\n",
      "            Iterations: 26\n",
      "            Function evaluations: 10478\n",
      "            Gradient evaluations: 26\n",
      "Iteration limit exceeded\n",
      "max altitude: 1.01184\n",
      "\n",
      "---- iteration : 7 ----\n",
      "Iteration limit exceeded    (Exit mode 9)\n",
      "            Current function value: -1.0121117394061758\n",
      "            Iterations: 26\n",
      "            Function evaluations: 10478\n",
      "            Gradient evaluations: 26\n",
      "Iteration limit exceeded\n",
      "max altitude: 1.01211\n",
      "\n",
      "---- iteration : 8 ----\n",
      "Iteration limit exceeded    (Exit mode 9)\n",
      "            Current function value: -1.012239230271447\n",
      "            Iterations: 26\n",
      "            Function evaluations: 10478\n",
      "            Gradient evaluations: 26\n",
      "Iteration limit exceeded\n",
      "max altitude: 1.01224\n",
      "\n",
      "---- iteration : 9 ----\n",
      "Iteration limit exceeded    (Exit mode 9)\n",
      "            Current function value: -1.0124859760811822\n",
      "            Iterations: 26\n",
      "            Function evaluations: 10479\n",
      "            Gradient evaluations: 26\n",
      "Iteration limit exceeded\n",
      "max altitude: 1.01249\n",
      "\n",
      "---- iteration : 10 ----\n",
      "Iteration limit exceeded    (Exit mode 9)\n",
      "            Current function value: -1.0125325207928406\n",
      "            Iterations: 26\n",
      "            Function evaluations: 10478\n",
      "            Gradient evaluations: 26\n",
      "Iteration limit exceeded\n",
      "max altitude: 1.01253\n",
      "\n",
      "---- iteration : 11 ----\n",
      "Iteration limit exceeded    (Exit mode 9)\n",
      "            Current function value: -1.0126096634125363\n",
      "            Iterations: 26\n",
      "            Function evaluations: 10478\n",
      "            Gradient evaluations: 26\n",
      "Iteration limit exceeded\n",
      "max altitude: 1.01261\n",
      "\n",
      "---- iteration : 12 ----\n",
      "Iteration limit exceeded    (Exit mode 9)\n",
      "            Current function value: -1.012650660481129\n",
      "            Iterations: 26\n",
      "            Function evaluations: 10478\n",
      "            Gradient evaluations: 26\n",
      "Iteration limit exceeded\n",
      "max altitude: 1.01265\n",
      "\n",
      "---- iteration : 13 ----\n",
      "Iteration limit exceeded    (Exit mode 9)\n",
      "            Current function value: -1.0126798073451933\n",
      "            Iterations: 26\n",
      "            Function evaluations: 10478\n",
      "            Gradient evaluations: 26\n",
      "Iteration limit exceeded\n",
      "max altitude: 1.01268\n",
      "\n",
      "---- iteration : 14 ----\n",
      "Iteration limit exceeded    (Exit mode 9)\n",
      "            Current function value: -1.0127058617955622\n",
      "            Iterations: 26\n",
      "            Function evaluations: 10478\n",
      "            Gradient evaluations: 26\n",
      "Iteration limit exceeded\n",
      "max altitude: 1.01271\n",
      "\n",
      "---- iteration : 15 ----\n",
      "Iteration limit exceeded    (Exit mode 9)\n",
      "            Current function value: -1.0127305298144609\n",
      "            Iterations: 26\n",
      "            Function evaluations: 10478\n",
      "            Gradient evaluations: 26\n",
      "Iteration limit exceeded\n",
      "max altitude: 1.01273\n",
      "\n",
      "---- iteration : 16 ----\n",
      "Iteration limit exceeded    (Exit mode 9)\n",
      "            Current function value: -1.0127624201689507\n",
      "            Iterations: 26\n",
      "            Function evaluations: 10478\n",
      "            Gradient evaluations: 26\n",
      "Iteration limit exceeded\n",
      "max altitude: 1.01276\n",
      "\n",
      "---- iteration : 17 ----\n",
      "Iteration limit exceeded    (Exit mode 9)\n",
      "            Current function value: -1.01276922248966\n",
      "            Iterations: 26\n",
      "            Function evaluations: 10478\n",
      "            Gradient evaluations: 26\n",
      "Iteration limit exceeded\n",
      "max altitude: 1.01277\n",
      "\n",
      "---- iteration : 18 ----\n",
      "Iteration limit exceeded    (Exit mode 9)\n",
      "            Current function value: -1.0127746715479193\n",
      "            Iterations: 26\n",
      "            Function evaluations: 10478\n",
      "            Gradient evaluations: 26\n",
      "Iteration limit exceeded\n",
      "max altitude: 1.01277\n",
      "\n",
      "---- iteration : 19 ----\n",
      "Iteration limit exceeded    (Exit mode 9)\n",
      "            Current function value: -1.0127785484796146\n",
      "            Iterations: 26\n",
      "            Function evaluations: 10478\n",
      "            Gradient evaluations: 26\n",
      "Iteration limit exceeded\n",
      "max altitude: 1.01278\n",
      "\n",
      "---- iteration : 20 ----\n",
      "Iteration limit exceeded    (Exit mode 9)\n",
      "            Current function value: -1.012785293853965\n",
      "            Iterations: 26\n",
      "            Function evaluations: 10478\n",
      "            Gradient evaluations: 26\n",
      "Iteration limit exceeded\n",
      "max altitude: 1.01279\n",
      "\n",
      "---- iteration : 21 ----\n",
      "Iteration limit exceeded    (Exit mode 9)\n",
      "            Current function value: -1.012790640564752\n",
      "            Iterations: 26\n",
      "            Function evaluations: 10478\n",
      "            Gradient evaluations: 26\n",
      "Iteration limit exceeded\n",
      "max altitude: 1.01279\n",
      "\n",
      "---- iteration : 22 ----\n",
      "Iteration limit exceeded    (Exit mode 9)\n",
      "            Current function value: -1.012796268719225\n",
      "            Iterations: 26\n",
      "            Function evaluations: 10478\n",
      "            Gradient evaluations: 26\n",
      "Iteration limit exceeded\n",
      "max altitude: 1.01280\n",
      "\n",
      "---- iteration : 23 ----\n",
      "Iteration limit exceeded    (Exit mode 9)\n",
      "            Current function value: -1.0128032510290068\n",
      "            Iterations: 26\n",
      "            Function evaluations: 10478\n",
      "            Gradient evaluations: 26\n",
      "Iteration limit exceeded\n",
      "max altitude: 1.01280\n",
      "\n",
      "---- iteration : 24 ----\n",
      "Iteration limit exceeded    (Exit mode 9)\n",
      "            Current function value: -1.0128052629685786\n",
      "            Iterations: 26\n",
      "            Function evaluations: 10478\n",
      "            Gradient evaluations: 26\n",
      "Iteration limit exceeded\n",
      "max altitude: 1.01281\n",
      "\n",
      "---- iteration : 25 ----\n",
      "Iteration limit exceeded    (Exit mode 9)\n",
      "            Current function value: -1.0128096658094994\n",
      "            Iterations: 26\n",
      "            Function evaluations: 10478\n",
      "            Gradient evaluations: 26\n",
      "Iteration limit exceeded\n",
      "max altitude: 1.01281\n",
      "\n",
      "---- iteration : 26 ----\n",
      "Iteration limit exceeded    (Exit mode 9)\n",
      "            Current function value: -1.0128129127051675\n",
      "            Iterations: 26\n",
      "            Function evaluations: 10479\n",
      "            Gradient evaluations: 26\n",
      "Iteration limit exceeded\n",
      "max altitude: 1.01281\n",
      "\n",
      "---- iteration : 27 ----\n",
      "Iteration limit exceeded    (Exit mode 9)\n",
      "            Current function value: -1.012815342756461\n",
      "            Iterations: 26\n",
      "            Function evaluations: 10478\n",
      "            Gradient evaluations: 26\n",
      "Iteration limit exceeded\n",
      "max altitude: 1.01282\n",
      "\n",
      "---- iteration : 28 ----\n",
      "Iteration limit exceeded    (Exit mode 9)\n",
      "            Current function value: -1.0128176566901406\n",
      "            Iterations: 26\n",
      "            Function evaluations: 10478\n",
      "            Gradient evaluations: 26\n",
      "Iteration limit exceeded\n",
      "max altitude: 1.01282\n",
      "\n",
      "---- iteration : 29 ----\n",
      "Iteration limit exceeded    (Exit mode 9)\n",
      "            Current function value: -1.0128187091713856\n",
      "            Iterations: 26\n",
      "            Function evaluations: 10478\n",
      "            Gradient evaluations: 26\n",
      "Iteration limit exceeded\n",
      "max altitude: 1.01282\n",
      "\n",
      "---- iteration : 30 ----\n",
      "Iteration limit exceeded    (Exit mode 9)\n",
      "            Current function value: -1.012829055130912\n",
      "            Iterations: 26\n",
      "            Function evaluations: 10478\n",
      "            Gradient evaluations: 26\n",
      "Iteration limit exceeded\n",
      "max altitude: 1.01283\n",
      "\n",
      "---- iteration : 31 ----\n"
     ]
    },
    {
     "name": "stdout",
     "output_type": "stream",
     "text": [
      "Iteration limit exceeded    (Exit mode 9)\n",
      "            Current function value: -1.0128295942527525\n",
      "            Iterations: 26\n",
      "            Function evaluations: 10478\n",
      "            Gradient evaluations: 26\n",
      "Iteration limit exceeded\n",
      "max altitude: 1.01283\n",
      "\n",
      "---- iteration : 32 ----\n",
      "Iteration limit exceeded    (Exit mode 9)\n",
      "            Current function value: -1.0128299008217323\n",
      "            Iterations: 26\n",
      "            Function evaluations: 10478\n",
      "            Gradient evaluations: 26\n",
      "Iteration limit exceeded\n",
      "max altitude: 1.01283\n",
      "\n",
      "---- iteration : 33 ----\n",
      "Iteration limit exceeded    (Exit mode 9)\n",
      "            Current function value: -1.0128299882354883\n",
      "            Iterations: 26\n",
      "            Function evaluations: 10478\n",
      "            Gradient evaluations: 26\n",
      "Iteration limit exceeded\n",
      "max altitude: 1.01283\n",
      "\n",
      "---- iteration : 34 ----\n",
      "Optimization terminated successfully.    (Exit mode 0)\n",
      "            Current function value: -1.0128299883189094\n",
      "            Iterations: 1\n",
      "            Function evaluations: 404\n",
      "            Gradient evaluations: 1\n",
      "Optimization terminated successfully.\n",
      "max altitude: 1.01283\n",
      "\n"
     ]
    }
   ],
   "source": [
    "prob.solve(obj, display_func, ftol=1e-10)"
   ]
  },
  {
   "cell_type": "markdown",
   "metadata": {},
   "source": [
    "We see that our optimisation ended after 34 iterations and that the maximal nondimensionalized altitude obtained was 1.01283."
   ]
  },
  {
   "cell_type": "markdown",
   "metadata": {},
   "source": [
    "### Post processing"
   ]
  },
  {
   "cell_type": "markdown",
   "metadata": {},
   "source": [
    "Extract states, control and time from the solved case:"
   ]
  },
  {
   "cell_type": "code",
   "execution_count": 34,
   "metadata": {},
   "outputs": [],
   "source": [
    "h = prob.states_all_section(0)\n",
    "v = prob.states_all_section(1)\n",
    "m = prob.states_all_section(2)\n",
    "T = prob.controls_all_section(0)\n",
    "time = prob.time_update()"
   ]
  },
  {
   "cell_type": "markdown",
   "metadata": {},
   "source": [
    "Calculate necessary variables which cannot be explicitly extracted:"
   ]
  },
  {
   "cell_type": "code",
   "execution_count": 44,
   "metadata": {},
   "outputs": [],
   "source": [
    "drag = obj.Dc * v ** 2 * np.exp(-obj.Hc * (h - 1.0) / 1.0)\n",
    "g = obj.g0 * (obj.H0 / h)**2"
   ]
  },
  {
   "cell_type": "markdown",
   "metadata": {},
   "source": [
    "### Results visualisation"
   ]
  },
  {
   "cell_type": "code",
   "execution_count": 38,
   "metadata": {},
   "outputs": [
    {
     "data": {
      "text/plain": [
       "Text(0,0.5,'Altitude [-]')"
      ]
     },
     "execution_count": 38,
     "metadata": {},
     "output_type": "execute_result"
    },
    {
     "data": {
      "image/png": "[encoded data removed]",
      "text/plain": [
       "<matplotlib.figure.Figure at 0x7f6d007a8898>"
      ]
     },
     "metadata": {},
     "output_type": "display_data"
    }
   ],
   "source": [
    "plt.figure()\n",
    "plt.title(\"Altitude profile\")\n",
    "plt.plot(time, h, marker=\"o\", label=\"Altitude\")\n",
    "plt.grid()\n",
    "plt.xlabel(\"time [s]\")\n",
    "plt.ylabel(\"Altitude [-]\")"
   ]
  },
  {
   "cell_type": "code",
   "execution_count": 39,
   "metadata": {},
   "outputs": [
    {
     "data": {
      "text/plain": [
       "Text(0,0.5,'Velocity [-]')"
      ]
     },
     "execution_count": 39,
     "metadata": {},
     "output_type": "execute_result"
    },
    {
     "data": {
      "image/png": "[encoded data removed]",
      "text/plain": [
       "<matplotlib.figure.Figure at 0x7f6d010b54e0>"
      ]
     },
     "metadata": {},
     "output_type": "display_data"
    }
   ],
   "source": [
    "plt.figure()\n",
    "plt.title(\"Velocity\")\n",
    "plt.plot(time, v, marker=\"o\", label=\"Velocity\")\n",
    "plt.grid()\n",
    "plt.xlabel(\"time [s]\")\n",
    "plt.ylabel(\"Velocity [-]\")"
   ]
  },
  {
   "cell_type": "code",
   "execution_count": 40,
   "metadata": {},
   "outputs": [
    {
     "data": {
      "text/plain": [
       "Text(0,0.5,'Mass [-]')"
      ]
     },
     "execution_count": 40,
     "metadata": {},
     "output_type": "execute_result"
    },
    {
     "data": {
      "image/png": "[encoded data removed]",
      "text/plain": [
       "<matplotlib.figure.Figure at 0x7f6d015e3390>"
      ]
     },
     "metadata": {},
     "output_type": "display_data"
    }
   ],
   "source": [
    "plt.figure()\n",
    "plt.title(\"Mass\")\n",
    "plt.plot(time, m, marker=\"o\", label=\"Mass\")\n",
    "plt.grid()\n",
    "plt.xlabel(\"time [s]\")\n",
    "plt.ylabel(\"Mass [-]\")"
   ]
  },
  {
   "cell_type": "code",
   "execution_count": 45,
   "metadata": {},
   "outputs": [
    {
     "data": {
      "text/plain": [
       "<matplotlib.legend.Legend at 0x7f6d00cd5ba8>"
      ]
     },
     "execution_count": 45,
     "metadata": {},
     "output_type": "execute_result"
    },
    {
     "data": {
      "image/png": "[encoded data removed]",
      "text/plain": [
       "<matplotlib.figure.Figure at 0x7f6d0084b6a0>"
      ]
     },
     "metadata": {},
     "output_type": "display_data"
    }
   ],
   "source": [
    "plt.figure()\n",
    "plt.title(\"Thrust profile\")\n",
    "plt.plot(time, T, marker=\"o\", label=\"Thrust\")\n",
    "plt.plot(time, drag, marker=\"o\", label=\"Drag\")\n",
    "plt.grid()\n",
    "plt.xlabel(\"time [s]\")\n",
    "plt.ylabel(\"Thrust [-]\")\n",
    "plt.legend(loc=\"best\")"
   ]
  },
  {
   "cell_type": "markdown",
   "metadata": {},
   "source": [
    "### Discussion\n",
    "\n",
    "We can see that we accurately predicted that our solution should consist of 3 arcs. This scenario is called a *Bang-Singular-Bang scenario*. That is, we use maximum thrust initially to approx. t=0.02. Next, as in eq. (3), we are minimizing $H$, so we are keeping $\\frac{\\lambda_v}{m} - \\frac{\\lambda_m}{c} = 0$ until we ran out of fuel ($m(0)=m(t_f)$). Finally, we are forced to keep $T=0$ and wait until we reach the maximum altitude."
   ]
  },
  {
   "cell_type": "markdown",
   "metadata": {},
   "source": [
    "## References\n",
    "Tsiotras P., Kelley H.J., *Drag-law Effects in the Goddard Problem*, 1991\n",
    "\n",
    "*Principles of Optimal Control*, Course notes, MIT, 2008\n",
    "\n",
    "*Nonlinear Systems and Control*, Course notes, Automatic Control Laboratory, ETH Zurich, 2015\n",
    "\n",
    "*OpenGoddard* library examples"
   ]
  }
 ],
 "metadata": {
  "kernelspec": {
   "display_name": "Python 3",
   "language": "python",
   "name": "python3"
  },
  "language_info": {
   "codemirror_mode": {
    "name": "ipython",
    "version": 3
   },
   "file_extension": ".py",
   "mimetype": "text/x-python",
   "name": "python",
   "nbconvert_exporter": "python",
   "pygments_lexer": "ipython3",
   "version": "3.6.4"
  }
 },
 "nbformat": 4,
 "nbformat_minor": 2
}
