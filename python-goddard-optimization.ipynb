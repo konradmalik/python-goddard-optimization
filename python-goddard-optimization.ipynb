{
 "cells": [
  {
   "cell_type": "markdown",
   "metadata": {},
   "source": [
    "Notes: lec10, lec12\n",
    "\n",
    "# Goddard's Rocket Problem"
   ]
  },
  {
   "cell_type": "markdown",
   "metadata": {},
   "source": [
    "###### My project on Optimization and Optimal Control"
   ]
  },
  {
   "cell_type": "markdown",
   "metadata": {},
   "source": [
    "## The most general problem statement:"
   ]
  },
  {
   "cell_type": "markdown",
   "metadata": {},
   "source": [
    "This problem concerns controlling a rocket's thrust in such a way that it will archive the greatest height or a given height while burning the lowest amount of fuel. There is no contraint on time and in the whole case just a one (vertical) direction is taken into consideration."
   ]
  },
  {
   "cell_type": "markdown",
   "metadata": {},
   "source": [
    "## Formal statement:"
   ]
  },
  {
   "cell_type": "markdown",
   "metadata": {},
   "source": [
    "Take:\n",
    "* $t$ - time $[s]$\n",
    "* $v$ - velocity $[m/s]$\n",
    "* $h$ - height $[m]$\n",
    "* $g$ - gravitational acceleration $[m/s^2]$\n",
    "* $m$ - mass $[kg]$\n",
    "* $c$ - specific impulse $[m/s]$\n",
    "* $\\rho(h)$ - air density $[kg/m^3]$\n",
    "* $D(v,h)$ - drag $[N]$\n",
    "* $T(t) = \\dot{m}c$ - thrust (control) $[N]$\n",
    "\n",
    "As density is dependant on altitude, we will use a simplified model:\n",
    "$$\\rho(h) = \\rho_0 e^{-\\beta h}$$ where $\\beta$ is a constant parameter.\n",
    "\n",
    "Thus, for the drag equation we will use:\n",
    "$$D(v,h) = \\frac{1}{2} \\rho(h) v^2 C_d S = \\frac{1}{2} \\rho_0 v^2 C_d S e^{-\\beta h}$$ where $C_d$ is a constant drag coefficient.\n",
    "\n",
    "We also assume that the initial time is zero:\n",
    "$$t_0=0\\ s$$"
   ]
  },
  {
   "cell_type": "markdown",
   "metadata": {},
   "source": [
    "Given the above, we can now define the rocket's equations of motion (EOM):"
   ]
  },
  {
   "cell_type": "markdown",
   "metadata": {},
   "source": [
    "![Rocket](figures/1rocket.png)"
   ]
  },
  {
   "cell_type": "markdown",
   "metadata": {},
   "source": [
    "\\begin{align}\n",
    "    \\dot{v} = & \\frac{1}{m}(T(t)-D(v,h)) - g \\\\\n",
    "    \\dot{h} = & v \\\\\n",
    "    \\dot{m} = & \\frac{-T(t)}{c}\n",
    "\\end{align}\n",
    "thus:\n",
    "\\begin{align}\n",
    "    \\dot{v} = & \\frac{1}{m}(T(t)-D(v,h)) - g \\\\\n",
    "    \\dot{h} = & v \\\\\n",
    "    \\dot{m} = & \\frac{-T(t)}{c}\n",
    "\\end{align}"
   ]
  },
  {
   "cell_type": "markdown",
   "metadata": {},
   "source": [
    "##### We define our objectives:\n",
    "We will try to obtain the optimal thrust profile for two slightly different cases:\n",
    "    1. Maximum altitude:\n",
    "\\begin{align}\n",
    "    Maximize: &\\\\\n",
    "    & h(t) \\\\\n",
    "    Subject\\ to: &\\\\\n",
    "    & h(t) \\geq 0\\ m \\\\\n",
    "    & T_{max} \\geq T(t) \\geq 0\\ N \\\\\n",
    "    & m(0) = m_0 \\\\\n",
    "    & m(t_f) = 0\\ kg \\\\\n",
    "    & v(0) = 0\\ m/s \\\\\n",
    "    & v(t_f) = 0\\ m/s \\\\\n",
    "\\end{align}  \n",
    "    \n",
    "    2. Selected altitude, while minimizing the fuel consumption:\n",
    "\\begin{align}\n",
    "    Minimize: &\\\\\n",
    "    & m(t_f) \\\\\n",
    "    Subject\\ to: &\\\\\n",
    "    & h(t) = H \\\\\n",
    "    & T_{max} \\geq T(t) \\geq 0\\ N \\\\\n",
    "    & m(0) = m_0 \\\\\n",
    "    & m(t_f) \\geq 0\\ kg \\\\\n",
    "    & v(0) = 0\\ m/s \\\\\n",
    "    & v(t_f) = 0\\ m/s \\\\\n",
    "\\end{align}"
   ]
  }
 ],
 "metadata": {
  "kernelspec": {
   "display_name": "Python 3",
   "language": "python",
   "name": "python3"
  },
  "language_info": {
   "codemirror_mode": {
    "name": "ipython",
    "version": 3
   },
   "file_extension": ".py",
   "mimetype": "text/x-python",
   "name": "python",
   "nbconvert_exporter": "python",
   "pygments_lexer": "ipython3",
   "version": "3.6.4"
  }
 },
 "nbformat": 4,
 "nbformat_minor": 2
}
