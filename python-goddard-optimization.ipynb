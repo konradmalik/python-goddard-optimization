{
 "cells": [
  {
   "cell_type": "markdown",
   "metadata": {},
   "source": [
    "Notes: lec10, lec12\n",
    "\n",
    "# Goddard's Rocket Problem"
   ]
  },
  {
   "cell_type": "markdown",
   "metadata": {},
   "source": [
    "###### My project on Optimization and Optimal Control"
   ]
  },
  {
   "cell_type": "markdown",
   "metadata": {},
   "source": [
    "## The most general problem statement:"
   ]
  },
  {
   "cell_type": "markdown",
   "metadata": {},
   "source": [
    "This problem concerns controlling a rocket's thrust in such a way that it will archive the greatest height or a given height while burning the lowest amount of fuel. There is no contraint on time and in the whole case just a one dimension is taken into consideration."
   ]
  },
  {
   "cell_type": "markdown",
   "metadata": {},
   "source": [
    "## Formal statement:"
   ]
  },
  {
   "cell_type": "markdown",
   "metadata": {},
   "source": [
    "Take:\n",
    "* $t$ - time $[s]$\n",
    "* $v$ - velocity $[m/s]$\n",
    "* $h$ - height $[m]$\n",
    "* $g$ - gravitational acceleration $[m/s^2]$\n",
    "* $m$ - mass $[kg]$\n",
    "* $c$ - specific impulse $[m/s]$\n",
    "* $\\rho(h)$ - air density $[kg/m^3]$\n",
    "* $D(v,h)$ - drag $[N]$\n",
    "* $T(t) = \\dot{m}c$ - thrust (control) $[N]$\n",
    "\n",
    "As density is dependant on altitude, we will use a simplified model:\n",
    "$$\\rho(h) = \\rho_0 e^{-\\beta h}$$ where $\\beta$ is a constant parameter.\n",
    "\n",
    "Thus, for the drag equation we will use:\n",
    "$$D(v,h) = \\frac{1}{2} \\rho(h) v^2 C_d S = \\frac{1}{2} \\rho_0 v^2 C_d S e^{-\\beta h}$$ where $C_d$ is a constant drag coefficient."
   ]
  },
  {
   "cell_type": "markdown",
   "metadata": {},
   "source": [
    "Given the above, we can now define the rocket's equations of motion (EOM):"
   ]
  },
  {
   "cell_type": "markdown",
   "metadata": {},
   "source": [
    "![Rocket](figures/1rocket.png)"
   ]
  },
  {
   "cell_type": "markdown",
   "metadata": {},
   "source": [
    "\\begin{align}\n",
    "    \\dot{v} = & \\frac{1}{m}(T(t)-D(v,h)) - g \\\\\n",
    "    \\dot{h} = & v \\\\\n",
    "    \\dot{m} = & \\frac{-T(t)}{c}\n",
    "\\end{align}"
   ]
  }
 ],
 "metadata": {
  "kernelspec": {
   "display_name": "Python 3",
   "language": "python",
   "name": "python3"
  },
  "language_info": {
   "codemirror_mode": {
    "name": "ipython",
    "version": 3
   },
   "file_extension": ".py",
   "mimetype": "text/x-python",
   "name": "python",
   "nbconvert_exporter": "python",
   "pygments_lexer": "ipython3",
   "version": "3.6.4"
  }
 },
 "nbformat": 4,
 "nbformat_minor": 2
}
